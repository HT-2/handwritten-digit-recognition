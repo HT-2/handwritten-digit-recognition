{
  "nbformat": 4,
  "nbformat_minor": 0,
  "metadata": {
    "colab": {
      "provenance": []
    },
    "kernelspec": {
      "name": "python3",
      "display_name": "Python 3"
    },
    "language_info": {
      "name": "python"
    },
    "accelerator": "GPU",
    "gpuClass": "standard"
  },
  "cells": [
    {
      "cell_type": "markdown",
      "source": [
        "Importing libraries and packages\n"
      ],
      "metadata": {
        "id": "BMx26i8YlY76"
      }
    },
    {
      "cell_type": "code",
      "source": [
        "import os\n",
        "import cv2\n",
        "import numpy as np\n",
        "import tensorflow as tf\n",
        "import sklearn as sk\n",
        "import matplotlib.pyplot as plt\n",
        "import pandas as pd\n",
        "import seaborn as sns\n",
        "import math\n"
      ],
      "metadata": {
        "id": "DHrVoy8MlfRX"
      },
      "execution_count": null,
      "outputs": []
    },
    {
      "cell_type": "markdown",
      "source": [
        "Loading the dataset\n"
      ],
      "metadata": {
        "id": "DjT-pjB7ljIT"
      }
    },
    {
      "cell_type": "code",
      "source": [
        "from sklearn.datasets import load_digits\n",
        "dataset  = load_digits()\n",
        "X = dataset['data']\n",
        "Y = dataset['target']"
      ],
      "metadata": {
        "id": "je57V_Mm1_pT"
      },
      "execution_count": null,
      "outputs": []
    },
    {
      "cell_type": "markdown",
      "source": [
        "Splitting data into traing and testing datasets using train_test_split"
      ],
      "metadata": {
        "id": "N_FuKANwl2EO"
      }
    },
    {
      "cell_type": "code",
      "source": [
        "from sklearn.model_selection import train_test_split\n",
        "X_train,X_test,Y_train,Y_test=train_test_split(X,Y,test_size=0.30)"
      ],
      "metadata": {
        "id": "bVBc4nxF2E2Y"
      },
      "execution_count": null,
      "outputs": []
    },
    {
      "cell_type": "markdown",
      "source": [
        "Building the neural network model"
      ],
      "metadata": {
        "id": "_jyH5JnwmImq"
      }
    },
    {
      "cell_type": "code",
      "source": [
        "model = tf.keras.models.Sequential()\n",
        "model.add(tf.keras.layers.Dense(units=64, activation=tf.nn.relu))\n",
        "model.add(tf.keras.layers.Dense(units=64, activation=tf.nn.relu))\n",
        "model.add(tf.keras.layers.Dense(units=10, activation=tf.nn.softmax))"
      ],
      "metadata": {
        "id": "7vkWtPFj2Ja2"
      },
      "execution_count": null,
      "outputs": []
    },
    {
      "cell_type": "markdown",
      "source": [
        "Compiling the model using adam optimizer and sparse categorical cross entropy as loss function"
      ],
      "metadata": {
        "id": "XEbTr4comRlK"
      }
    },
    {
      "cell_type": "code",
      "source": [
        "model.compile(optimizer='adam', loss='sparse_categorical_crossentropy',metrics=['accuracy'])"
      ],
      "metadata": {
        "id": "wutD_e_U2N4A"
      },
      "execution_count": null,
      "outputs": []
    },
    {
      "cell_type": "markdown",
      "source": [
        "Training the model"
      ],
      "metadata": {
        "id": "m819yogbmf7Z"
      }
    },
    {
      "cell_type": "code",
      "source": [
        "model.fit(X_train, Y_train, epochs=20)"
      ],
      "metadata": {
        "colab": {
          "base_uri": "https://localhost:8080/"
        },
        "id": "oofrn2Ba2QuC",
        "outputId": "c0018a47-afa4-4489-9c1f-1839708c21ea"
      },
      "execution_count": null,
      "outputs": [
        {
          "output_type": "stream",
          "name": "stdout",
          "text": [
            "Epoch 1/20\n",
            "40/40 [==============================] - 1s 3ms/step - loss: 1.8970 - accuracy: 0.4797\n",
            "Epoch 2/20\n",
            "40/40 [==============================] - 0s 3ms/step - loss: 0.4201 - accuracy: 0.8719\n",
            "Epoch 3/20\n",
            "40/40 [==============================] - 0s 3ms/step - loss: 0.2584 - accuracy: 0.9189\n",
            "Epoch 4/20\n",
            "40/40 [==============================] - 0s 4ms/step - loss: 0.1830 - accuracy: 0.9467\n",
            "Epoch 5/20\n",
            "40/40 [==============================] - 0s 4ms/step - loss: 0.1404 - accuracy: 0.9610\n",
            "Epoch 6/20\n",
            "40/40 [==============================] - 0s 3ms/step - loss: 0.1100 - accuracy: 0.9666\n",
            "Epoch 7/20\n",
            "40/40 [==============================] - 0s 4ms/step - loss: 0.0902 - accuracy: 0.9769\n",
            "Epoch 8/20\n",
            "40/40 [==============================] - 0s 4ms/step - loss: 0.0702 - accuracy: 0.9825\n",
            "Epoch 9/20\n",
            "40/40 [==============================] - 0s 3ms/step - loss: 0.0621 - accuracy: 0.9825\n",
            "Epoch 10/20\n",
            "40/40 [==============================] - 0s 3ms/step - loss: 0.0494 - accuracy: 0.9897\n",
            "Epoch 11/20\n",
            "40/40 [==============================] - 0s 4ms/step - loss: 0.0389 - accuracy: 0.9920\n",
            "Epoch 12/20\n",
            "40/40 [==============================] - 0s 4ms/step - loss: 0.0318 - accuracy: 0.9944\n",
            "Epoch 13/20\n",
            "40/40 [==============================] - 0s 4ms/step - loss: 0.0267 - accuracy: 0.9984\n",
            "Epoch 14/20\n",
            "40/40 [==============================] - 0s 4ms/step - loss: 0.0226 - accuracy: 0.9976\n",
            "Epoch 15/20\n",
            "40/40 [==============================] - 0s 3ms/step - loss: 0.0196 - accuracy: 0.9984\n",
            "Epoch 16/20\n",
            "40/40 [==============================] - 0s 4ms/step - loss: 0.0170 - accuracy: 1.0000\n",
            "Epoch 17/20\n",
            "40/40 [==============================] - 0s 3ms/step - loss: 0.0144 - accuracy: 1.0000\n",
            "Epoch 18/20\n",
            "40/40 [==============================] - 0s 3ms/step - loss: 0.0127 - accuracy: 1.0000\n",
            "Epoch 19/20\n",
            "40/40 [==============================] - 0s 3ms/step - loss: 0.0112 - accuracy: 1.0000\n",
            "Epoch 20/20\n",
            "40/40 [==============================] - 0s 4ms/step - loss: 0.0113 - accuracy: 1.0000\n"
          ]
        },
        {
          "output_type": "execute_result",
          "data": {
            "text/plain": [
              "<keras.callbacks.History at 0x7fe67439b0d0>"
            ]
          },
          "metadata": {},
          "execution_count": 59
        }
      ]
    },
    {
      "cell_type": "markdown",
      "source": [
        "Retrieving predictions\n"
      ],
      "metadata": {
        "id": "en30WfHtt9zd"
      }
    },
    {
      "cell_type": "code",
      "source": [
        "Y_pred_keras=model.predict(X_test)\n"
      ],
      "metadata": {
        "colab": {
          "base_uri": "https://localhost:8080/"
        },
        "id": "8ySN68t0tuMA",
        "outputId": "4c6d3513-5b18-4bb5-a4d7-403b869716f2"
      },
      "execution_count": null,
      "outputs": [
        {
          "output_type": "stream",
          "name": "stdout",
          "text": [
            "17/17 [==============================] - 0s 2ms/step\n"
          ]
        }
      ]
    },
    {
      "cell_type": "markdown",
      "source": [
        "Evaluating training loss"
      ],
      "metadata": {
        "id": "eCaXINYYmo5V"
      }
    },
    {
      "cell_type": "code",
      "source": [
        "train_loss, train_acc = model.evaluate(X_train, Y_train)"
      ],
      "metadata": {
        "colab": {
          "base_uri": "https://localhost:8080/"
        },
        "id": "ZXzdDi0b2Vdr",
        "outputId": "441fc5b8-0b3d-4889-9e98-3e964976fead"
      },
      "execution_count": null,
      "outputs": [
        {
          "output_type": "stream",
          "name": "stdout",
          "text": [
            "40/40 [==============================] - 0s 3ms/step - loss: 0.0089 - accuracy: 1.0000\n"
          ]
        }
      ]
    },
    {
      "cell_type": "markdown",
      "source": [
        "Evaluating testing loss"
      ],
      "metadata": {
        "id": "0OOTIEMXmur7"
      }
    },
    {
      "cell_type": "code",
      "source": [
        "test_loss, test_acc = model.evaluate(X_test, Y_test)"
      ],
      "metadata": {
        "colab": {
          "base_uri": "https://localhost:8080/"
        },
        "id": "T-CmsNC-2Yw5",
        "outputId": "dbb85af1-bc72-4ee0-ad5a-82f70eeba2df"
      },
      "execution_count": null,
      "outputs": [
        {
          "output_type": "stream",
          "name": "stdout",
          "text": [
            "17/17 [==============================] - 0s 3ms/step - loss: 0.0876 - accuracy: 0.9722\n"
          ]
        }
      ]
    },
    {
      "cell_type": "markdown",
      "source": [
        "Retrieving weights and biases for the model\n"
      ],
      "metadata": {
        "id": "DM-zL9mRC5i2"
      }
    },
    {
      "cell_type": "code",
      "source": [
        "print(\"Weights and biases of the layers: \\n\")\n",
        "for layer in model.layers:\n",
        "    print(layer.name, layer)"
      ],
      "metadata": {
        "colab": {
          "base_uri": "https://localhost:8080/"
        },
        "id": "EcOjPYIsC7tb",
        "outputId": "529b6490-23ae-4ea3-cf31-6300c6d0b011"
      },
      "execution_count": null,
      "outputs": [
        {
          "output_type": "stream",
          "name": "stdout",
          "text": [
            "Weights and biases of the layers: \n",
            "\n",
            "dense_6 <keras.layers.core.dense.Dense object at 0x7fe6706d3a60>\n",
            "dense_7 <keras.layers.core.dense.Dense object at 0x7fe6706d3eb0>\n",
            "dense_8 <keras.layers.core.dense.Dense object at 0x7fe6706d3d90>\n"
          ]
        }
      ]
    },
    {
      "cell_type": "code",
      "source": [
        "W1 = model.layers[0].get_weights()[0]\n",
        "W2 = model.layers[1].get_weights()[0]\n",
        "W3 = model.layers[2].get_weights()[0]\n",
        "\n",
        "b1 = model.layers[0].get_weights()[1]\n",
        "b2 = model.layers[1].get_weights()[1]\n",
        "b3 = model.layers[2].get_weights()[1]"
      ],
      "metadata": {
        "id": "kPIfqxTODUPJ"
      },
      "execution_count": null,
      "outputs": []
    },
    {
      "cell_type": "markdown",
      "source": [
        "Defining activation Function\n"
      ],
      "metadata": {
        "id": "5d9xf2AQnF1J"
      }
    },
    {
      "cell_type": "code",
      "source": [
        "def relu(A):\n",
        "  return np.maximum(0,A)\n",
        "\n",
        "def softmax(A):\n",
        "  exp_A = np.exp(A)\n",
        "  return exp_A / exp_A.sum()"
      ],
      "metadata": {
        "id": "I8ILHfMIZsAo"
      },
      "execution_count": null,
      "outputs": []
    },
    {
      "cell_type": "markdown",
      "source": [
        "Defining forward propogation function"
      ],
      "metadata": {
        "id": "Wz7r4cF3nNoW"
      }
    },
    {
      "cell_type": "code",
      "source": [
        "def forward_propagation(X):\n",
        "  z1 = np.dot(X , W1) + b1\n",
        "  A1 = relu(z1)\n",
        "\n",
        "\n",
        "  Z2 = np.dot(A1 , W2) + b2\n",
        "  A2 = relu(Z2)\n",
        "\n",
        "\n",
        "  Z3 = np.dot(A2 , W3) + b3\n",
        "  A3 = softmax(Z3)\n",
        "  return A3\n",
        "\n",
        ""
      ],
      "metadata": {
        "id": "c-VRIpKAd7YZ"
      },
      "execution_count": null,
      "outputs": []
    },
    {
      "cell_type": "markdown",
      "source": [
        "Funtion for calculating accuracy"
      ],
      "metadata": {
        "id": "t6e-o4D9nj3h"
      }
    },
    {
      "cell_type": "code",
      "source": [
        "def accuracy(Y_pred_numpy , Y_actual):\n",
        "  return np.mean(np.argmax(Y_pred_numpy, axis=1) == Y_actual)"
      ],
      "metadata": {
        "id": "hnQxFEqSeLSO"
      },
      "execution_count": null,
      "outputs": []
    },
    {
      "cell_type": "markdown",
      "source": [
        "Retrieving predictions"
      ],
      "metadata": {
        "id": "eYhLoiazuLLs"
      }
    },
    {
      "cell_type": "code",
      "source": [
        "Y_pred_numpy = forward_propagation(X_test)\n",
        "\n",
        "acc = accuracy(Y_pred_numpy, Y_test)\n",
        "print(\"Accuracy: \", acc)"
      ],
      "metadata": {
        "colab": {
          "base_uri": "https://localhost:8080/"
        },
        "id": "SbbNmd8jeX1u",
        "outputId": "a0deacdc-9665-49ed-fa82-36b05af8193b"
      },
      "execution_count": null,
      "outputs": [
        {
          "output_type": "stream",
          "name": "stdout",
          "text": [
            "Accuracy:  0.9722222222222222\n"
          ]
        }
      ]
    },
    {
      "cell_type": "markdown",
      "source": [
        "Hence, it can be observed that the accuracy obtained on testing dataset is almost same for both the Keras as well as the Numpy model."
      ],
      "metadata": {
        "id": "lM3CjVx9Bm_3"
      }
    },
    {
      "cell_type": "markdown",
      "source": [
        "Plotting and comapring images between Keras and Numpy models"
      ],
      "metadata": {
        "id": "3w01Wv8_uO2m"
      }
    },
    {
      "cell_type": "code",
      "source": [
        "#Plotting images for keras model\n",
        "import matplotlib.pyplot as plt\n",
        "fig, axes = plt.subplots(1, 10, figsize=(8, 8), subplot_kw={'xticks':[], 'yticks':[]}, gridspec_kw=dict(hspace=0.1, wspace=0.1))\n",
        "for i, ax in enumerate(axes.flat):\n",
        "    ax.imshow(X_test[i].reshape(8,8), cmap='binary', interpolation='nearest')\n",
        "    ax.set_xlabel(Y_pred_keras[i].argmax(), color='red')\n",
        "plt.show()"
      ],
      "metadata": {
        "colab": {
          "base_uri": "https://localhost:8080/",
          "height": 89
        },
        "id": "wF3TkHF6-z-p",
        "outputId": "92159aaa-aeac-4d22-c275-c1e7eacc9761"
      },
      "execution_count": null,
      "outputs": [
        {
          "output_type": "display_data",
          "data": {
            "text/plain": [
              "<Figure size 576x576 with 10 Axes>"
            ],
            "image/png": "[encoded data removed]"
          },
          "metadata": {}
        }
      ]
    },
    {
      "cell_type": "code",
      "source": [
        "#Plotting images for numpy model\n",
        "import matplotlib.pyplot as plt\n",
        "fig, axes = plt.subplots(1, 10, figsize=(8, 8), subplot_kw={'xticks':[], 'yticks':[]}, gridspec_kw=dict(hspace=0.1, wspace=0.1))\n",
        "for i, ax in enumerate(axes.flat):\n",
        "    ax.imshow(X_test[i].reshape(8,8), cmap='binary', interpolation='nearest')\n",
        "    ax.set_xlabel(Y_pred_numpy[i].argmax(), color='red')\n",
        "plt.show()"
      ],
      "metadata": {
        "colab": {
          "base_uri": "https://localhost:8080/",
          "height": 89
        },
        "id": "RwvVEaIW_VZO",
        "outputId": "de273b9f-e97b-495b-b1e9-7e174c7d2807"
      },
      "execution_count": null,
      "outputs": [
        {
          "output_type": "display_data",
          "data": {
            "text/plain": [
              "<Figure size 576x576 with 10 Axes>"
            ],
            "image/png": "[encoded data removed]"
          },
          "metadata": {}
        }
      ]
    }
  ]
}